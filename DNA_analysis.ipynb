{
  "nbformat": 4,
  "nbformat_minor": 0,
  "metadata": {
    "colab": {
      "provenance": [],
      "authorship_tag": "ABX9TyOGfmUeym4RDLuFwRgYQK+R",
      "include_colab_link": true
    },
    "kernelspec": {
      "name": "python3",
      "display_name": "Python 3"
    },
    "language_info": {
      "name": "python"
    }
  },
  "cells": [
    {
      "cell_type": "markdown",
      "metadata": {
        "id": "view-in-github",
        "colab_type": "text"
      },
      "source": [
        "<a href=\"https://colab.research.google.com/github/pranathiperii/analyseDNA/blob/main/DNA_analysis.ipynb\" target=\"_parent\"><img src=\"https://colab.research.google.com/assets/colab-badge.svg\" alt=\"Open In Colab\"/></a>"
      ]
    },
    {
      "cell_type": "code",
      "execution_count": 79,
      "metadata": {
        "id": "cuhiUUyPCl64"
      },
      "outputs": [],
      "source": [
        "#generating a DNA tool kit, where with an input of a DNA sequence i can validate it, check GC content and much more"
      ]
    },
    {
      "cell_type": "markdown",
      "source": [
        "1. Validate the DNA: Purpose: Check if sequence contains only A, T, G, C\n"
      ],
      "metadata": {
        "id": "m_V3HKWMC3g7"
      }
    },
    {
      "cell_type": "code",
      "source": [
        "def valid_dna(seq):\n",
        "  seq = seq.upper().replace(\" \", \"\").replace(\"\\n\", \"\") #normalising it, all the letters become upper case, and no spaces in between\n",
        "  valid_bases = [\"A\", \"T\", \"G\", \"C\"]\n",
        "  for base in seq:\n",
        "    if base not in valid_bases:\n",
        "      print(\"Invalid Base Found\" , base)\n",
        "      return False\n",
        "  return True\n",
        "\n",
        "print(valid_dna(\"AGTGCGTGTGATGTGCTGXA\"))"
      ],
      "metadata": {
        "colab": {
          "base_uri": "https://localhost:8080/"
        },
        "id": "kiQQRI6eCypX",
        "outputId": "13b7c4a6-56b9-48ea-9c75-ed94ea37aafb"
      },
      "execution_count": 80,
      "outputs": [
        {
          "output_type": "stream",
          "name": "stdout",
          "text": [
            "Invalid Base Found X\n",
            "False\n"
          ]
        }
      ]
    },
    {
      "cell_type": "markdown",
      "source": [
        "2. GC Content"
      ],
      "metadata": {
        "id": "ICC2I1LfGnZG"
      }
    },
    {
      "cell_type": "code",
      "source": [
        "def gc_content(seq):\n",
        "    seq = seq.upper().replace(\" \", \"\").replace(\"\\n\", \"\") #normalised it\n",
        "    gc_count = 0\n",
        "    gc = (\"G\", \"C\")\n",
        "\n",
        "    for base in seq:\n",
        "        if base in gc:\n",
        "            gc_count += 1\n",
        "\n",
        "    return (gc_count / len(seq)) * 100 #to calculate GC content in percentage\n",
        "\n",
        "\n",
        "print(gc_content(\"#paste your seq here\"))\n",
        "\n",
        ""
      ],
      "metadata": {
        "colab": {
          "base_uri": "https://localhost:8080/"
        },
        "id": "yPny-_YnGm9j",
        "outputId": "8d5bfa79-7861-41f8-a0fe-4ac05dd57e14"
      },
      "execution_count": 81,
      "outputs": [
        {
          "output_type": "stream",
          "name": "stdout",
          "text": [
            "0.0\n"
          ]
        }
      ]
    },
    {
      "cell_type": "markdown",
      "source": [
        "3. Reverse complimentary strand"
      ],
      "metadata": {
        "id": "m0XuLTkGNEio"
      }
    },
    {
      "cell_type": "code",
      "source": [
        "def complement_strand(seq):\n",
        "  seq = seq.upper().replace(\" \", \"\").replace(\"\\n\", \"\")\n",
        "  complement_dict = {\"A\":\"T\", \"T\":\"A\", \"G\":\"C\", \"C\":\"G\"}\n",
        "  comp = \"\"\n",
        "  for base in seq:\n",
        "    comp += complement_dict[base]\n",
        "  return comp[::-1]\n",
        "\n",
        "print(complement_strand(\"ATGTGTGCATCA\"))"
      ],
      "metadata": {
        "colab": {
          "base_uri": "https://localhost:8080/"
        },
        "id": "fYf38yAmNMpJ",
        "outputId": "bd6e7823-f0ca-410f-8870-7210c29dbde9"
      },
      "execution_count": 82,
      "outputs": [
        {
          "output_type": "stream",
          "name": "stdout",
          "text": [
            "TGATGCACACAT\n"
          ]
        }
      ]
    },
    {
      "cell_type": "markdown",
      "source": [
        "4. Trancript"
      ],
      "metadata": {
        "id": "9y4rL0leQWa4"
      }
    },
    {
      "cell_type": "code",
      "source": [
        "def trancribe(seq):\n",
        "  seq = seq.upper().replace(\" \", \"\").replace(\"\\n\", \"\")\n",
        "  trancribe_dict = {\"A\":\"A\", \"T\":\"U\", \"G\":\"G\", \"C\":\"C\"}\n",
        "  trans = \"\"\n",
        "  for base in seq:\n",
        "    trans += trancribe_dict[base]\n",
        "  return trans\n",
        "#OR\n",
        "def trancribe(seq):\n",
        "  seq = seq.upper().replace(\" \", \"\").replace(\"\\n\", \"\")\n",
        "  return seq.replace(\"T\", \"U\")\n",
        "\n",
        "print(trancribe(\"ATGTGTGCATCA\"))"
      ],
      "metadata": {
        "colab": {
          "base_uri": "https://localhost:8080/"
        },
        "id": "PSsnXNUrQZXU",
        "outputId": "aee339ec-8764-4f1e-9401-5390599f1c88"
      },
      "execution_count": 83,
      "outputs": [
        {
          "output_type": "stream",
          "name": "stdout",
          "text": [
            "AUGUGUGCAUCA\n"
          ]
        }
      ]
    },
    {
      "cell_type": "markdown",
      "source": [
        "5. Finding a Motif"
      ],
      "metadata": {
        "id": "FQMtBWt8Q7t3"
      }
    },
    {
      "cell_type": "code",
      "source": [
        "#A motif is just a specific sequence of bases you’re looking for.\n",
        "#Example: if motif = \"ATG\" and sequence = \"GGCATGTA\", the motif appears at position 3.\n",
        "\n",
        "\n",
        "def find_motif(seq , motif):\n",
        " seq = seq.upper().replace(\" \", \"\").replace(\"\\n\", \"\")\n",
        " motif = motif.upper()\n",
        " position = seq.find(motif)\n",
        "\n",
        " #if position != -1:\n",
        "  # print(f\"found motif in sequence at {position + 1} \")\n",
        " #else:\n",
        "  # print(\"motif not found\"))\n",
        "   #return\n",
        "\n",
        "#previous code was only to find the first motif occured. the one below is for all.\n",
        "def find_all_motif(seq, motif):\n",
        "    seq = seq.upper().replace(\" \", \"\").replace(\"\\n\", \"\")\n",
        "    motif = motif.upper()\n",
        "    positions = []\n",
        "    start = 0\n",
        "\n",
        "    while True:\n",
        "        position = seq.find(motif, start)\n",
        "        if position == -1:\n",
        "            break\n",
        "        positions.append(position + 1)\n",
        "        start = position + 1\n",
        "\n",
        "    #if positions:\n",
        "     #   print(f\"Found motif '{motif}' at positions: {positions}\")\n",
        "    #else:\n",
        "     #   print(\"Motif not found\")\n",
        "\n",
        "    return positions"
      ],
      "metadata": {
        "id": "-sKSuyvJRQsO"
      },
      "execution_count": 86,
      "outputs": []
    },
    {
      "cell_type": "markdown",
      "source": [
        "Combining all functions"
      ],
      "metadata": {
        "id": "jnloHuEFYVe2"
      }
    },
    {
      "cell_type": "code",
      "source": [
        "def analyse_DNAseq(seq, motif):\n",
        "  seq = seq.upper().replace(\" \", \"\").replace(\"\\n\", \"\")\n",
        "  print(\"\\n--- DNA Analysis Toolkit ---\")\n",
        "  if not valid_dna(seq):\n",
        "    print(\"Invalid sequence as it contains non-ATGC characters.\")\n",
        "    return\n",
        "\n",
        "  print(f\"sequence is valid :{seq.upper()}\")\n",
        "  print(f\"GC content in the sequence: {gc_content(seq)}%\")\n",
        "  print(f\"Reverse complimentary strand: {complement_strand(seq)}\")\n",
        "  print(f\"Trancribed sequence: {trancribe(seq)}\")\n",
        "\n",
        "  positions = find_all_motif(seq, motif) # Changed find_motif to find_all_motif\n",
        "  if positions:\n",
        "    print(f\"Motif '{motif}' found at positions: {positions}\")\n",
        "  else:\n",
        "    print(f\"Motif '{motif}' not found.\")\n",
        "\n",
        "\n",
        "analyse_DNAseq(\"ATGTATGGCGCATGGTGCATCA\", \"ATG\") #put your seq of interest here with a motif"
      ],
      "metadata": {
        "colab": {
          "base_uri": "https://localhost:8080/"
        },
        "id": "N4KsEWYYYX6g",
        "outputId": "bd80a77a-986f-40da-c541-330760b59bac"
      },
      "execution_count": 87,
      "outputs": [
        {
          "output_type": "stream",
          "name": "stdout",
          "text": [
            "\n",
            "--- DNA Analysis Toolkit ---\n",
            "sequence is valid :ATGTATGGCGCATGGTGCATCA\n",
            "GC content in the sequence: 50.0%\n",
            "Reverse complimentary strand: TGATGCACCATGCGCCATACAT\n",
            "Trancribed sequence: AUGUAUGGCGCAUGGUGCAUCA\n",
            "Motif 'ATG' found at positions: [1, 5, 12]\n"
          ]
        }
      ]
    }
  ]
}