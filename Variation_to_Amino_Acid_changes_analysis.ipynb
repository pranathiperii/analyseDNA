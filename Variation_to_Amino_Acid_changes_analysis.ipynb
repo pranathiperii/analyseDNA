{
  "nbformat": 4,
  "nbformat_minor": 0,
  "metadata": {
    "colab": {
      "provenance": [],
      "authorship_tag": "ABX9TyONXdAKWRbr6EZ7Yzyg5hCD",
      "include_colab_link": true
    },
    "kernelspec": {
      "name": "python3",
      "display_name": "Python 3"
    },
    "language_info": {
      "name": "python"
    }
  },
  "cells": [
    {
      "cell_type": "markdown",
      "metadata": {
        "id": "view-in-github",
        "colab_type": "text"
      },
      "source": [
        "<a href=\"https://colab.research.google.com/github/pranathiperii/analyseDNA/blob/main/Variation_to_Amino_Acid_changes_analysis.ipynb\" target=\"_parent\"><img src=\"https://colab.research.google.com/assets/colab-badge.svg\" alt=\"Open In Colab\"/></a>"
      ]
    },
    {
      "cell_type": "markdown",
      "source": [
        "Report on Amino Acid changes, if two sequences are pasted"
      ],
      "metadata": {
        "id": "FgoQcijijbRO"
      }
    },
    {
      "cell_type": "code",
      "source": [
        "from Bio.Seq import Seq\n",
        "from tabulate import tabulate\n",
        "\n",
        "\n",
        "def normalize_seq(seq):\n",
        "    return seq.upper().replace(\" \", \"\").replace(\"\\n\", \"\")#a function to normalise the sequence, to ensure all the cases are uppercase and no whitespaces\n",
        "\n",
        "ref_seq = normalize_seq(input(\"Enter reference sequence: \"))\n",
        "sample_seq = normalize_seq(input(\"Enter sample sequence: \"))\n",
        "\n",
        "\n",
        "def safe_translate(seq):\n",
        "    seq = seq[:len(seq)//3*3]  # trim to multiple of 3\n",
        "    return str(Seq(seq).translate())#a function to indicate to translate the sequence till the last place, where len divided by 3 = 0\n",
        "\n",
        "ref_prot = safe_translate(ref_seq)\n",
        "sample_prot = safe_translate(sample_seq)\n",
        "\n",
        "# Amino acid info\n",
        "aa_info = {\n",
        "    \"A\": (\"Alanine\", \"Nonpolar, aliphatic\"),\n",
        "    \"R\": (\"Arginine\", \"Positively charged, basic\"),\n",
        "    \"N\": (\"Asparagine\", \"Polar, uncharged\"),\n",
        "    \"D\": (\"Aspartic acid\", \"Negatively charged, acidic\"),\n",
        "    \"C\": (\"Cysteine\", \"Polar, forms disulfide bonds\"),\n",
        "    \"E\": (\"Glutamic acid\", \"Negatively charged, acidic\"),\n",
        "    \"Q\": (\"Glutamine\", \"Polar, uncharged\"),\n",
        "    \"G\": (\"Glycine\", \"Nonpolar, smallest\"),\n",
        "    \"H\": (\"Histidine\", \"Positively charged, aromatic\"),\n",
        "    \"I\": (\"Isoleucine\", \"Nonpolar, aliphatic\"),\n",
        "    \"L\": (\"Leucine\", \"Nonpolar, aliphatic\"),\n",
        "    \"K\": (\"Lysine\", \"Positively charged, basic\"),\n",
        "    \"M\": (\"Methionine\", \"Nonpolar, sulfur-containing\"),\n",
        "    \"F\": (\"Phenylalanine\", \"Nonpolar, aromatic\"),\n",
        "    \"P\": (\"Proline\", \"Nonpolar, rigid\"),\n",
        "    \"S\": (\"Serine\", \"Polar, uncharged\"),\n",
        "    \"T\": (\"Threonine\", \"Polar, uncharged\"),\n",
        "    \"W\": (\"Tryptophan\", \"Nonpolar, aromatic\"),\n",
        "    \"Y\": (\"Tyrosine\", \"Polar, aromatic\"),\n",
        "    \"V\": (\"Valine\", \"Nonpolar, aliphatic\"),\n",
        "    \"*\": (\"Stop\", \"Stop codon\")\n",
        "}\n",
        "\n",
        "table = []\n",
        "min_len = min(len(ref_prot), len(sample_prot))\n",
        "\n",
        "for i in range(min_len):\n",
        "    ref_aa = ref_prot[i]\n",
        "    sample_aa = sample_prot[i]\n",
        "\n",
        "    if ref_aa != sample_aa:\n",
        "        # Determine mutation type\n",
        "        mut_type = \"Nonsense\" if sample_aa == \"*\" else \"Missense\"\n",
        "        #sample_aa == *, means the mutation led to a stop codon.\n",
        "\n",
        "        # AA names and properties\n",
        "        ref_name, ref_prop = aa_info.get(ref_aa, (\"Unknown\", \"Unknown\"))\n",
        "        sample_name, sample_prop = aa_info.get(sample_aa, (\"Unknown\", \"Unknown\"))\n",
        "\n",
        "        table.append([\n",
        "            i+1,\n",
        "            ref_aa,\n",
        "            sample_aa,\n",
        "            f\"{ref_name} ({ref_prop})\",\n",
        "            f\"{sample_name} ({sample_prop})\",\n",
        "            mut_type\n",
        "        ])\n",
        "\n",
        "# Check for length differences\n",
        "if len(ref_prot) != len(sample_prot):\n",
        "    table.append([\n",
        "        \"-\",\n",
        "        \"-\",\n",
        "        \"-\",\n",
        "        f\"Protein length {len(ref_prot)}\",\n",
        "        f\"Protein length {len(sample_prot)}\",\n",
        "        \"Possible frameshift\"\n",
        "    ])\n",
        "\n",
        "# Print table\n",
        "if table:\n",
        "    print(\"\\nAmino acid differences:\")\n",
        "    print(tabulate(table, headers=[\"Position\", \"Ref AA\", \"Sample AA\", \"Ref Info\", \"Sample Info\", \"Mutation Type\"], tablefmt=\"grid\"))\n",
        "else:\n",
        "    print(\"✅ No amino acid differences detected.\")\n"
      ],
      "metadata": {
        "colab": {
          "base_uri": "https://localhost:8080/"
        },
        "id": "ngB2WVdzGV-f",
        "outputId": "7befbdc6-0bbf-4d00-afb9-801dd7c27b40"
      },
      "execution_count": 30,
      "outputs": [
        {
          "output_type": "stream",
          "name": "stdout",
          "text": [
            "Enter reference sequence: ACGG\n",
            "Enter sample sequence: AGGC\n",
            "\n",
            "Amino acid differences:\n",
            "+------------+----------+-------------+------------------------------+--------------------------------------+-----------------+\n",
            "|   Position | Ref AA   | Sample AA   | Ref Info                     | Sample Info                          | Mutation Type   |\n",
            "+============+==========+=============+==============================+======================================+=================+\n",
            "|          1 | T        | R           | Threonine (Polar, uncharged) | Arginine (Positively charged, basic) | Missense        |\n",
            "+------------+----------+-------------+------------------------------+--------------------------------------+-----------------+\n"
          ]
        }
      ]
    }
  ]
}